{
 "cells": [
  {
   "cell_type": "code",
   "execution_count": 1,
   "id": "ac5dd3fe-50da-480c-b05c-670aa4cc0b8b",
   "metadata": {},
   "outputs": [],
   "source": [
    "from gtts import gTTS"
   ]
  },
  {
   "cell_type": "code",
   "execution_count": 2,
   "id": "412eb3b8-2b56-45dc-91fa-8a0d1072b91b",
   "metadata": {},
   "outputs": [],
   "source": [
    "a = gTTS('My name is Nashit')"
   ]
  },
  {
   "cell_type": "code",
   "execution_count": 3,
   "id": "36f10842-dd7f-40c8-ae3f-7a888f49c6a4",
   "metadata": {},
   "outputs": [],
   "source": [
    "a.save('a.mp3')"
   ]
  },
  {
   "cell_type": "code",
   "execution_count": 4,
   "id": "0d82e2a4-8fd3-4175-a1f0-e60d3a49a1f7",
   "metadata": {},
   "outputs": [],
   "source": [
    "b = gTTS('निःशुल्क पेश किया गया, तुरंत शब्दों, वाक्यों और वेब पृष्ठों को अंग्रेजी और 100 से अधिक अन्य भाषाओं के बीच अनुवादित करता है', lang='hi')"
   ]
  },
  {
   "cell_type": "code",
   "execution_count": 5,
   "id": "4ff760c1-1b98-4a43-b1f1-853d15abe44e",
   "metadata": {},
   "outputs": [],
   "source": [
    "b.save('b.mp3')"
   ]
  },
  {
   "cell_type": "code",
   "execution_count": 6,
   "id": "e2c41307-4d57-492c-afd7-92523b795e8f",
   "metadata": {},
   "outputs": [
    {
     "name": "stdin",
     "output_type": "stream",
     "text": [
      "enter text Enhancv's Resume Checker analyzes and improves your resume for applicant tracking systems (ATS) and hiring managers.\n"
     ]
    }
   ],
   "source": [
    "user = input('enter text')\n",
    "c = gTTS(user)\n",
    "c.save('c.mp3')"
   ]
  },
  {
   "cell_type": "code",
   "execution_count": 8,
   "id": "654f2236-f9e6-4cd4-a29b-d535ddbff0e7",
   "metadata": {},
   "outputs": [],
   "source": [
    "with open('new.txt', 'r') as f:\n",
    "    text = f.read()\n",
    "\n",
    "d = gTTS(text)\n",
    "d.save('d.mp3')\n",
    "\n"
   ]
  },
  {
   "cell_type": "code",
   "execution_count": null,
   "id": "099a5df7-084c-4b19-99d4-477930bf0ac5",
   "metadata": {},
   "outputs": [],
   "source": []
  }
 ],
 "metadata": {
  "kernelspec": {
   "display_name": "Python 3 (ipykernel)",
   "language": "python",
   "name": "python3"
  },
  "language_info": {
   "codemirror_mode": {
    "name": "ipython",
    "version": 3
   },
   "file_extension": ".py",
   "mimetype": "text/x-python",
   "name": "python",
   "nbconvert_exporter": "python",
   "pygments_lexer": "ipython3",
   "version": "3.12.10"
  }
 },
 "nbformat": 4,
 "nbformat_minor": 5
}

{
 "cells": [
  {
   "cell_type": "code",
   "execution_count": null,
   "id": "716fe289-e623-48b6-b8f7-f3b8362b7ad4",
   "metadata": {},
   "outputs": [],
   "source": []
  },
  {
   "cell_type": "code",
   "execution_count": 2,
   "id": "25fe280b-da71-4b3d-9890-8948b85f84b0",
   "metadata": {},
   "outputs": [],
   "source": [
    "import tensorflow as tf\n",
    "from tensorflow.keras.models import Sequential\n",
    "from tensorflow.keras.layers import Conv2D, MaxPooling2D, Flatten, Dense\n",
    "from tensorflow.keras.preprocessing.image import ImageDataGenerator"
   ]
  },
  {
   "cell_type": "code",
   "execution_count": 3,
   "id": "0ff196c6-5a75-43f5-be13-fa6a134fdc3b",
   "metadata": {},
   "outputs": [],
   "source": [
    "path = 'dataset/south-indian-celebrity-dataset'"
   ]
  },
  {
   "cell_type": "code",
   "execution_count": 4,
   "id": "4d4380fc-7bad-43d4-9eb6-7d9ee8931045",
   "metadata": {},
   "outputs": [],
   "source": [
    "datagen = ImageDataGenerator(validation_split= 0.2)"
   ]
  },
  {
   "cell_type": "code",
   "execution_count": 5,
   "id": "f19db485-c86b-4e6f-a770-182f88a6d911",
   "metadata": {},
   "outputs": [],
   "source": [
    "img_size = (128, 128)\n",
    "batch_size = 32"
   ]
  },
  {
   "cell_type": "code",
   "execution_count": 6,
   "id": "131e94a8-54cf-4a58-8587-1c689868549f",
   "metadata": {},
   "outputs": [
    {
     "name": "stdout",
     "output_type": "stream",
     "text": [
      "Found 480 images belonging to 12 classes.\n"
     ]
    }
   ],
   "source": [
    "train_gen = datagen.flow_from_directory(path, target_size = img_size, \n",
    "                                        batch_size = 32, class_mode = 'categorical', \n",
    "                                        subset = 'training')"
   ]
  },
  {
   "cell_type": "code",
   "execution_count": 7,
   "id": "4e580e8a-b9fb-4b8b-93f6-9959f8209677",
   "metadata": {},
   "outputs": [
    {
     "name": "stdout",
     "output_type": "stream",
     "text": [
      "Found 119 images belonging to 12 classes.\n"
     ]
    }
   ],
   "source": [
    "val_gen = datagen.flow_from_directory(path, target_size = img_size, \n",
    "                                        batch_size = 32, class_mode = 'categorical', \n",
    "                                        subset = 'validation')"
   ]
  },
  {
   "cell_type": "code",
   "execution_count": 8,
   "id": "40fdbd7e-b399-4b76-a069-96c18adafa2e",
   "metadata": {},
   "outputs": [],
   "source": [
    "model = Sequential()"
   ]
  },
  {
   "cell_type": "code",
   "execution_count": 10,
   "id": "7b287a80-415c-40d8-aa28-4efa87e04edc",
   "metadata": {},
   "outputs": [
    {
     "name": "stderr",
     "output_type": "stream",
     "text": [
      "C:\\Users\\s_nas\\AppData\\Local\\Programs\\Python\\Python312\\Lib\\site-packages\\keras\\src\\layers\\convolutional\\base_conv.py:107: UserWarning: Do not pass an `input_shape`/`input_dim` argument to a layer. When using Sequential models, prefer using an `Input(shape)` object as the first layer in the model instead.\n",
      "  super().__init__(activity_regularizer=activity_regularizer, **kwargs)\n"
     ]
    }
   ],
   "source": [
    "model.add(Conv2D(32, (3,3), activation = 'relu', input_shape=(128,128, 3)))\n",
    "model.add(MaxPooling2D(2,2))\n",
    "model.add(Conv2D(64, (3,3), activation = 'relu'))\n",
    "model.add(MaxPooling2D(2,2))\n",
    "model.add(Flatten())\n",
    "model.add(Dense(128,activation = 'relu'))\n",
    "model.add(Dense(train_gen.num_classes, activation='softmax'))"
   ]
  },
  {
   "cell_type": "code",
   "execution_count": 12,
   "id": "7585e323-fc1a-4293-92b4-cc7fd9e103ff",
   "metadata": {},
   "outputs": [],
   "source": [
    "model.compile(optimizer='adam', loss='categorical_crossentropy', metrics=['accuracy'])"
   ]
  },
  {
   "cell_type": "code",
   "execution_count": 14,
   "id": "9771a60c-83cd-4b87-8d4b-6cfeada14fb1",
   "metadata": {},
   "outputs": [
    {
     "name": "stderr",
     "output_type": "stream",
     "text": [
      "C:\\Users\\s_nas\\AppData\\Local\\Programs\\Python\\Python312\\Lib\\site-packages\\keras\\src\\trainers\\data_adapters\\py_dataset_adapter.py:121: UserWarning: Your `PyDataset` class should call `super().__init__(**kwargs)` in its constructor. `**kwargs` can include `workers`, `use_multiprocessing`, `max_queue_size`. Do not pass these arguments to `fit()`, as they will be ignored.\n",
      "  self._warn_if_super_not_called()\n"
     ]
    },
    {
     "name": "stdout",
     "output_type": "stream",
     "text": [
      "Epoch 1/10\n",
      "\u001b[1m15/15\u001b[0m \u001b[32m━━━━━━━━━━━━━━━━━━━━\u001b[0m\u001b[37m\u001b[0m \u001b[1m18s\u001b[0m 1s/step - accuracy: 0.1019 - loss: 776.9619 - val_accuracy: 0.1008 - val_loss: 2.9590\n",
      "Epoch 2/10\n",
      "\u001b[1m15/15\u001b[0m \u001b[32m━━━━━━━━━━━━━━━━━━━━\u001b[0m\u001b[37m\u001b[0m \u001b[1m9s\u001b[0m 600ms/step - accuracy: 0.2835 - loss: 2.3061 - val_accuracy: 0.0840 - val_loss: 2.7462\n",
      "Epoch 3/10\n",
      "\u001b[1m15/15\u001b[0m \u001b[32m━━━━━━━━━━━━━━━━━━━━\u001b[0m\u001b[37m\u001b[0m \u001b[1m9s\u001b[0m 598ms/step - accuracy: 0.7571 - loss: 1.0178 - val_accuracy: 0.1261 - val_loss: 3.4638\n",
      "Epoch 4/10\n",
      "\u001b[1m15/15\u001b[0m \u001b[32m━━━━━━━━━━━━━━━━━━━━\u001b[0m\u001b[37m\u001b[0m \u001b[1m9s\u001b[0m 622ms/step - accuracy: 0.9441 - loss: 0.3221 - val_accuracy: 0.1261 - val_loss: 4.6279\n",
      "Epoch 5/10\n",
      "\u001b[1m15/15\u001b[0m \u001b[32m━━━━━━━━━━━━━━━━━━━━\u001b[0m\u001b[37m\u001b[0m \u001b[1m9s\u001b[0m 598ms/step - accuracy: 0.9818 - loss: 0.0974 - val_accuracy: 0.1681 - val_loss: 6.0337\n",
      "Epoch 6/10\n",
      "\u001b[1m15/15\u001b[0m \u001b[32m━━━━━━━━━━━━━━━━━━━━\u001b[0m\u001b[37m\u001b[0m \u001b[1m9s\u001b[0m 602ms/step - accuracy: 1.0000 - loss: 0.0043 - val_accuracy: 0.1597 - val_loss: 6.8449\n",
      "Epoch 7/10\n",
      "\u001b[1m15/15\u001b[0m \u001b[32m━━━━━━━━━━━━━━━━━━━━\u001b[0m\u001b[37m\u001b[0m \u001b[1m9s\u001b[0m 600ms/step - accuracy: 1.0000 - loss: 0.0010 - val_accuracy: 0.1345 - val_loss: 6.4377\n",
      "Epoch 8/10\n",
      "\u001b[1m15/15\u001b[0m \u001b[32m━━━━━━━━━━━━━━━━━━━━\u001b[0m\u001b[37m\u001b[0m \u001b[1m9s\u001b[0m 606ms/step - accuracy: 1.0000 - loss: 7.1832e-04 - val_accuracy: 0.1513 - val_loss: 6.2703\n",
      "Epoch 9/10\n",
      "\u001b[1m15/15\u001b[0m \u001b[32m━━━━━━━━━━━━━━━━━━━━\u001b[0m\u001b[37m\u001b[0m \u001b[1m9s\u001b[0m 606ms/step - accuracy: 1.0000 - loss: 3.9664e-04 - val_accuracy: 0.1513 - val_loss: 6.4743\n",
      "Epoch 10/10\n",
      "\u001b[1m15/15\u001b[0m \u001b[32m━━━━━━━━━━━━━━━━━━━━\u001b[0m\u001b[37m\u001b[0m \u001b[1m9s\u001b[0m 600ms/step - accuracy: 1.0000 - loss: 1.4448e-04 - val_accuracy: 0.1597 - val_loss: 6.6765\n"
     ]
    },
    {
     "data": {
      "text/plain": [
       "<keras.src.callbacks.history.History at 0x1d114bf7950>"
      ]
     },
     "execution_count": 14,
     "metadata": {},
     "output_type": "execute_result"
    }
   ],
   "source": [
    "model.fit(train_gen, validation_data =val_gen, epochs =10)"
   ]
  },
  {
   "cell_type": "code",
   "execution_count": 33,
   "id": "34cda0b4-8bc4-4e52-b8e9-b5d2caab3dcd",
   "metadata": {},
   "outputs": [],
   "source": [
    "from tensorflow.keras.preprocessing import image\n",
    "import numpy as np\n",
    "img_path ='dataset/south-indian-celebrity-dataset/saipallavi/1.jpeg'\n",
    "img = image.load_img(img_path, target_size=img_size)"
   ]
  },
  {
   "cell_type": "code",
   "execution_count": 34,
   "id": "c91a1d6b-411d-4a89-9834-d1daa9690754",
   "metadata": {},
   "outputs": [],
   "source": [
    "img_array = image.img_to_array(img)\n",
    "img_array = np.expand_dims(img_array, axis=0)"
   ]
  },
  {
   "cell_type": "code",
   "execution_count": 35,
   "id": "1f415f9a-643f-4fb9-a4e9-b8823f63c5ae",
   "metadata": {},
   "outputs": [
    {
     "name": "stdout",
     "output_type": "stream",
     "text": [
      "\u001b[1m1/1\u001b[0m \u001b[32m━━━━━━━━━━━━━━━━━━━━\u001b[0m\u001b[37m\u001b[0m \u001b[1m0s\u001b[0m 73ms/step\n"
     ]
    }
   ],
   "source": [
    "pred = model.predict(img_array)"
   ]
  },
  {
   "cell_type": "code",
   "execution_count": 36,
   "id": "d9c1f40f-e661-4514-a1ed-ad2b8a323c0e",
   "metadata": {},
   "outputs": [
    {
     "data": {
      "text/plain": [
       "'anushka'"
      ]
     },
     "execution_count": 36,
     "metadata": {},
     "output_type": "execute_result"
    }
   ],
   "source": [
    "p_class = list(train_gen.class_indices.keys())[np.argmax(pred)]\n",
    "p_class"
   ]
  },
  {
   "cell_type": "code",
   "execution_count": null,
   "id": "0d44698a-23b6-4026-9cbe-37209393b0bf",
   "metadata": {},
   "outputs": [],
   "source": []
  }
 ],
 "metadata": {
  "kernelspec": {
   "display_name": "Python 3 (ipykernel)",
   "language": "python",
   "name": "python3"
  },
  "language_info": {
   "codemirror_mode": {
    "name": "ipython",
    "version": 3
   },
   "file_extension": ".py",
   "mimetype": "text/x-python",
   "name": "python",
   "nbconvert_exporter": "python",
   "pygments_lexer": "ipython3",
   "version": "3.12.10"
  }
 },
 "nbformat": 4,
 "nbformat_minor": 5
}
